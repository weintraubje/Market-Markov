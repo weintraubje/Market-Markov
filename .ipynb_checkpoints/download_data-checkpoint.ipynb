{
 "cells": [
  {
   "cell_type": "code",
   "execution_count": 56,
   "metadata": {},
   "outputs": [],
   "source": [
    "import pandas as pd\n",
    "import numpy as np\n",
    "import yfinance as yf\n",
    "import datetime as dt\n",
    "from matplotlib import pyplot as plt"
   ]
  },
  {
   "cell_type": "code",
   "execution_count": 94,
   "metadata": {},
   "outputs": [],
   "source": [
    "start = dt.datetime(2010,1,1)\n",
    "end = dt.datetime(2020,12,31)\n",
    "\n",
    "# List all relevant stocks\n",
    "symbols = ['SPY']"
   ]
  },
  {
   "cell_type": "code",
   "execution_count": 95,
   "metadata": {},
   "outputs": [
    {
     "name": "stdout",
     "output_type": "stream",
     "text": [
      "0 : SPY,"
     ]
    }
   ],
   "source": [
    "df = pd.DataFrame()\n",
    "# iterate over each symbol\n",
    "for i in symbols:  \n",
    "    \n",
    "    # print the symbol which is being downloaded\n",
    "    print( str(symbols.index(i)) + str(' : ') + i, sep=',', end=',', flush=True)  \n",
    "    \n",
    "    try:\n",
    "        # download the stock price \n",
    "        stock = []\n",
    "        stock = yf.download(i,start=start, end=end, progress=False)\n",
    "        \n",
    "        # append the individual stock prices \n",
    "        if len(stock) == 0:\n",
    "            None\n",
    "        else:\n",
    "            stock['Name']=i\n",
    "            df = df.append(stock,sort=False)\n",
    "    except Exception:\n",
    "        None"
   ]
  },
  {
   "cell_type": "code",
   "execution_count": 96,
   "metadata": {},
   "outputs": [
    {
     "name": "stderr",
     "output_type": "stream",
     "text": [
      "<ipython-input-96-445ebcdec60c>:4: SettingWithCopyWarning: \n",
      "A value is trying to be set on a copy of a slice from a DataFrame.\n",
      "Try using .loc[row_indexer,col_indexer] = value instead\n",
      "\n",
      "See the caveats in the documentation: https://pandas.pydata.org/pandas-docs/stable/user_guide/indexing.html#returning-a-view-versus-a-copy\n",
      "  final_df['1D Change'] = np.where(final_df.loc[:,'Close'].shift(1) > final_df['Close'], 1, 0)\n"
     ]
    },
    {
     "data": {
      "text/html": [
       "<div>\n",
       "<style scoped>\n",
       "    .dataframe tbody tr th:only-of-type {\n",
       "        vertical-align: middle;\n",
       "    }\n",
       "\n",
       "    .dataframe tbody tr th {\n",
       "        vertical-align: top;\n",
       "    }\n",
       "\n",
       "    .dataframe thead th {\n",
       "        text-align: right;\n",
       "    }\n",
       "</style>\n",
       "<table border=\"1\" class=\"dataframe\">\n",
       "  <thead>\n",
       "    <tr style=\"text-align: right;\">\n",
       "      <th></th>\n",
       "      <th>Close</th>\n",
       "      <th>Name</th>\n",
       "      <th>1D Change</th>\n",
       "    </tr>\n",
       "    <tr>\n",
       "      <th>Date</th>\n",
       "      <th></th>\n",
       "      <th></th>\n",
       "      <th></th>\n",
       "    </tr>\n",
       "  </thead>\n",
       "  <tbody>\n",
       "    <tr>\n",
       "      <th>2010-01-04</th>\n",
       "      <td>113.330002</td>\n",
       "      <td>SPY</td>\n",
       "      <td>0</td>\n",
       "    </tr>\n",
       "    <tr>\n",
       "      <th>2010-01-05</th>\n",
       "      <td>113.629997</td>\n",
       "      <td>SPY</td>\n",
       "      <td>0</td>\n",
       "    </tr>\n",
       "    <tr>\n",
       "      <th>2010-01-06</th>\n",
       "      <td>113.709999</td>\n",
       "      <td>SPY</td>\n",
       "      <td>0</td>\n",
       "    </tr>\n",
       "    <tr>\n",
       "      <th>2010-01-07</th>\n",
       "      <td>114.190002</td>\n",
       "      <td>SPY</td>\n",
       "      <td>0</td>\n",
       "    </tr>\n",
       "    <tr>\n",
       "      <th>2010-01-08</th>\n",
       "      <td>114.570000</td>\n",
       "      <td>SPY</td>\n",
       "      <td>0</td>\n",
       "    </tr>\n",
       "    <tr>\n",
       "      <th>...</th>\n",
       "      <td>...</td>\n",
       "      <td>...</td>\n",
       "      <td>...</td>\n",
       "    </tr>\n",
       "    <tr>\n",
       "      <th>2020-12-23</th>\n",
       "      <td>367.570007</td>\n",
       "      <td>SPY</td>\n",
       "      <td>0</td>\n",
       "    </tr>\n",
       "    <tr>\n",
       "      <th>2020-12-24</th>\n",
       "      <td>369.000000</td>\n",
       "      <td>SPY</td>\n",
       "      <td>0</td>\n",
       "    </tr>\n",
       "    <tr>\n",
       "      <th>2020-12-28</th>\n",
       "      <td>372.170013</td>\n",
       "      <td>SPY</td>\n",
       "      <td>0</td>\n",
       "    </tr>\n",
       "    <tr>\n",
       "      <th>2020-12-29</th>\n",
       "      <td>371.459991</td>\n",
       "      <td>SPY</td>\n",
       "      <td>1</td>\n",
       "    </tr>\n",
       "    <tr>\n",
       "      <th>2020-12-30</th>\n",
       "      <td>371.989990</td>\n",
       "      <td>SPY</td>\n",
       "      <td>0</td>\n",
       "    </tr>\n",
       "  </tbody>\n",
       "</table>\n",
       "<p>2768 rows × 3 columns</p>\n",
       "</div>"
      ],
      "text/plain": [
       "                 Close Name  1D Change\n",
       "Date                                  \n",
       "2010-01-04  113.330002  SPY          0\n",
       "2010-01-05  113.629997  SPY          0\n",
       "2010-01-06  113.709999  SPY          0\n",
       "2010-01-07  114.190002  SPY          0\n",
       "2010-01-08  114.570000  SPY          0\n",
       "...                ...  ...        ...\n",
       "2020-12-23  367.570007  SPY          0\n",
       "2020-12-24  369.000000  SPY          0\n",
       "2020-12-28  372.170013  SPY          0\n",
       "2020-12-29  371.459991  SPY          1\n",
       "2020-12-30  371.989990  SPY          0\n",
       "\n",
       "[2768 rows x 3 columns]"
      ]
     },
     "execution_count": 96,
     "metadata": {},
     "output_type": "execute_result"
    },
    {
     "data": {
      "image/png": "[encoded data removed]",
      "text/plain": [
       "<Figure size 432x288 with 1 Axes>"
      ]
     },
     "metadata": {
      "needs_background": "light"
     },
     "output_type": "display_data"
    }
   ],
   "source": [
    "final_df = df[['Close', 'Name']]\n",
    "final_df.plot()\n",
    "\n",
    "final_df['1D Change'] = np.where(final_df.loc[:,'Close'].shift(1) > final_df['Close'], 1, 0)\n",
    "transitions = list(final_df['1D Change'])[1:]\n",
    "final_df"
   ]
  },
  {
   "cell_type": "code",
   "execution_count": 97,
   "metadata": {},
   "outputs": [
    {
     "name": "stdout",
     "output_type": "stream",
     "text": [
      "[0.5390625, 0.4609375]\n",
      "[0.5756097560975609, 0.424390243902439]\n"
     ]
    },
    {
     "data": {
      "image/png": "[encoded data removed]",
      "text/plain": [
       "<Figure size 432x288 with 1 Axes>"
      ]
     },
     "metadata": {
      "needs_background": "light"
     },
     "output_type": "display_data"
    },
    {
     "data": {
      "text/plain": [
       "0    0.555315\n",
       "1    0.444685\n",
       "Name: 25, dtype: float64"
      ]
     },
     "execution_count": 97,
     "metadata": {},
     "output_type": "execute_result"
    }
   ],
   "source": [
    "def generate_transition_matrix(l):\n",
    "    \"\"\"Generates a transition matrix from a list of data\"\"\"\n",
    "    \n",
    "    # Identify all unique elements and create an empty transition matrix\n",
    "    elements = list(set(l))\n",
    "    elements_len = len(elements)\n",
    "    transition_matrix = [[0] * elements_len for x in range(elements_len)]\n",
    "\n",
    "    # Create a zipped pair of each state and its next, and then a transition matrix\n",
    "    for (i,j) in zip(l,l[1:]):\n",
    "        transition_matrix[i][j] += 1\n",
    "    for i in transition_matrix:\n",
    "        if sum(i) > 0:\n",
    "            i[:] = [x/sum(i) for x in i]\n",
    "    \n",
    "    # Print transition matrix\n",
    "    for _ in transition_matrix:\n",
    "        print(_)\n",
    "    \n",
    "    return transition_matrix, elements_len\n",
    "    \n",
    "\n",
    "def stationary_values(transition_matrix, elements_len, mmult_number = 25):\n",
    "    \"\"\"From a transition matrix, generate stationary values\"\"\"\n",
    "    \n",
    "    # Create a 1st state array\n",
    "    state = np.array([[0.0] * elements_len])\n",
    "    state[0][0] = 1.0\n",
    "    \n",
    "    # Create a state tracker\n",
    "    stateHist = state\n",
    "    dfStateHist = pd.DataFrame(state)\n",
    "    distr_hist = [[0,0]]\n",
    "    \n",
    "    # Calculate stationary values\n",
    "    for x in range(mmult_number):\n",
    "        state = np.dot(state,transition_matrix)\n",
    "        stateHist = np.append(stateHist,state,axis=0)\n",
    "        dfDistrHist = pd.DataFrame(stateHist)\n",
    "    svals = dfDistrHist[-1:].iloc[0]\n",
    "    \n",
    "    # Plot the descent to stationary\n",
    "    dfDistrHist.plot()\n",
    "    plt.show()\n",
    "        \n",
    "    return svals\n",
    "    \n",
    "    \n",
    "transition_matrix, elements_len = generate_transition_matrix(transitions)\n",
    "\n",
    "stationary_values(transition_matrix, elements_len)"
   ]
  }
 ],
 "metadata": {
  "kernelspec": {
   "display_name": "Python 3",
   "language": "python",
   "name": "python3"
  },
  "language_info": {
   "codemirror_mode": {
    "name": "ipython",
    "version": 3
   },
   "file_extension": ".py",
   "mimetype": "text/x-python",
   "name": "python",
   "nbconvert_exporter": "python",
   "pygments_lexer": "ipython3",
   "version": "3.8.5"
  }
 },
 "nbformat": 4,
 "nbformat_minor": 4
}
