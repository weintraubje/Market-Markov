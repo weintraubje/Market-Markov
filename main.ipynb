{
 "cells": [
  {
   "cell_type": "code",
   "execution_count": 1,
   "metadata": {},
   "outputs": [],
   "source": [
    "import pandas as pd\n",
    "import numpy as np\n",
    "import datetime as dt\n",
    "from importlib import reload\n",
    "\n",
    "import transition_matrices as tm"
   ]
  },
  {
   "cell_type": "markdown",
   "metadata": {},
   "source": [
    "# Set Controls\n",
    "\n",
    "#### Time of Program"
   ]
  },
  {
   "cell_type": "code",
   "execution_count": 2,
   "metadata": {},
   "outputs": [],
   "source": [
    "start = dt.datetime(2018,1,1)\n",
    "end = dt.datetime(2020,12,31)"
   ]
  },
  {
   "cell_type": "markdown",
   "metadata": {},
   "source": [
    "#### Basket of Stocks"
   ]
  },
  {
   "cell_type": "code",
   "execution_count": 3,
   "metadata": {},
   "outputs": [],
   "source": [
    "# List all relevant stocks\n",
    "#symbols = ['AAPL', 'MSFT', 'GOOG', 'TSLA', 'V', 'GLW', 'INTC', 'IBM', 'NTAP', 'SWKS', 'XRX', 'HPQ', 'AVGO', 'CRM', 'MU']\n",
    "symbols = ['SPYG', 'SPYD', 'SPY']"
   ]
  },
  {
   "cell_type": "markdown",
   "metadata": {},
   "source": [
    "#### Select Analysis from the Below List\n",
    "- Day Change"
   ]
  },
  {
   "cell_type": "code",
   "execution_count": 4,
   "metadata": {},
   "outputs": [],
   "source": [
    "choice = 'Day Change'"
   ]
  },
  {
   "cell_type": "code",
   "execution_count": 9,
   "metadata": {},
   "outputs": [
    {
     "name": "stdout",
     "output_type": "stream",
     "text": [
      "DOWNLOADING SPYG ... SUCCESS!\n",
      "DOWNLOADING SPYD ... SUCCESS!\n",
      "DOWNLOADING SPY ... SUCCESS!\n",
      "<built-in method index of list object at 0x000002F071ABC540>\n",
      "<built-in method index of list object at 0x000002F073C9F200>\n",
      "ERROR OCCURS AT ENTRY 42 FOR EQUITY SPYD\n",
      "ERROR OCCURS AT ENTRY 98 FOR EQUITY SPYD\n",
      "<built-in method index of list object at 0x000002F071AE8080>\n",
      "ERROR OCCURS AT ENTRY 42 FOR EQUITY SPY\n",
      "ERROR OCCURS AT ENTRY 98 FOR EQUITY SPY\n"
     ]
    }
   ],
   "source": [
    "reload(tm)\n",
    "tms = tm.generate_combine_transition_matrices(symbols, start, end, tm.day_change_transitions, min_days = 1, max_days = 100)"
   ]
  },
  {
   "cell_type": "code",
   "execution_count": 11,
   "metadata": {},
   "outputs": [
    {
     "ename": "TypeError",
     "evalue": "day_change_transitions() missing 1 required positional argument: 'num_days'",
     "output_type": "error",
     "traceback": [
      "\u001b[1;31m---------------------------------------------------------------------------\u001b[0m",
      "\u001b[1;31mTypeError\u001b[0m                                 Traceback (most recent call last)",
      "\u001b[1;32m<ipython-input-11-674e1272653c>\u001b[0m in \u001b[0;36m<module>\u001b[1;34m\u001b[0m\n\u001b[0;32m      1\u001b[0m \u001b[0mreload\u001b[0m\u001b[1;33m(\u001b[0m\u001b[0mtm\u001b[0m\u001b[1;33m)\u001b[0m\u001b[1;33m\u001b[0m\u001b[1;33m\u001b[0m\u001b[0m\n\u001b[1;32m----> 2\u001b[1;33m \u001b[0mtm\u001b[0m\u001b[1;33m.\u001b[0m\u001b[0mplot_summaries\u001b[0m\u001b[1;33m(\u001b[0m\u001b[0mtms\u001b[0m\u001b[1;33m,\u001b[0m \u001b[0mtm\u001b[0m\u001b[1;33m.\u001b[0m\u001b[0mday_change_transitions\u001b[0m\u001b[1;33m)\u001b[0m\u001b[1;33m\u001b[0m\u001b[1;33m\u001b[0m\u001b[0m\n\u001b[0m",
      "\u001b[1;32m~\\Desktop\\Homework\\Market-Markov\\transition_matrices.py\u001b[0m in \u001b[0;36mplot_summaries\u001b[1;34m(tms, choice)\u001b[0m\n\u001b[0;32m     94\u001b[0m \u001b[1;32mdef\u001b[0m \u001b[0mplot_summaries\u001b[0m\u001b[1;33m(\u001b[0m\u001b[0mtms\u001b[0m\u001b[1;33m,\u001b[0m \u001b[0mchoice\u001b[0m\u001b[1;33m)\u001b[0m\u001b[1;33m:\u001b[0m\u001b[1;33m\u001b[0m\u001b[1;33m\u001b[0m\u001b[0m\n\u001b[0;32m     95\u001b[0m     \u001b[1;34m\"\"\"Runs the requested plotting summary tool\"\"\"\u001b[0m\u001b[1;33m\u001b[0m\u001b[1;33m\u001b[0m\u001b[0m\n\u001b[1;32m---> 96\u001b[1;33m     \u001b[0mchoice\u001b[0m\u001b[1;33m(\u001b[0m\u001b[0mtms\u001b[0m\u001b[1;33m)\u001b[0m\u001b[1;33m\u001b[0m\u001b[1;33m\u001b[0m\u001b[0m\n\u001b[0m\u001b[0;32m     97\u001b[0m \u001b[1;33m\u001b[0m\u001b[0m\n\u001b[0;32m     98\u001b[0m     \u001b[1;32mreturn\u001b[0m \u001b[1;32mNone\u001b[0m\u001b[1;33m\u001b[0m\u001b[1;33m\u001b[0m\u001b[0m\n",
      "\u001b[1;31mTypeError\u001b[0m: day_change_transitions() missing 1 required positional argument: 'num_days'"
     ]
    }
   ],
   "source": [
    "reload(tm)\n",
    "tm.plot_summaries(tms, tm.day_change_transitions)"
   ]
  }
 ],
 "metadata": {
  "kernelspec": {
   "display_name": "Python 3",
   "language": "python",
   "name": "python3"
  },
  "language_info": {
   "codemirror_mode": {
    "name": "ipython",
    "version": 3
   },
   "file_extension": ".py",
   "mimetype": "text/x-python",
   "name": "python",
   "nbconvert_exporter": "python",
   "pygments_lexer": "ipython3",
   "version": "3.8.5"
  }
 },
 "nbformat": 4,
 "nbformat_minor": 4
}
