{
 "cells": [
  {
   "cell_type": "code",
   "execution_count": 9,
   "metadata": {},
   "outputs": [],
   "source": [
    "import pandas as pd\n",
    "import numpy as np\n",
    "\n",
    "import yfinance as yf\n",
    "import datetime as dt\n",
    "\n",
    "from matplotlib import pyplot as plt"
   ]
  },
  {
   "cell_type": "code",
   "execution_count": 61,
   "metadata": {},
   "outputs": [],
   "source": [
    "start = dt.datetime(2010,1,1)\n",
    "end = dt.datetime(2020,12,31)"
   ]
  },
  {
   "cell_type": "code",
   "execution_count": 12,
   "metadata": {},
   "outputs": [],
   "source": [
    "# List all relevant stocks\n",
    "symbols = ['AAPL', 'MSFT']#, 'GOOG', 'TSLA', 'V']"
   ]
  },
  {
   "cell_type": "code",
   "execution_count": 67,
   "metadata": {},
   "outputs": [],
   "source": [
    "def download_stock_data(symbol):\n",
    "    \"\"\"Downloads historical stock pricing data for an individual symbol\"\"\"\n",
    "\n",
    "    df = pd.DataFrame()  \n",
    "\n",
    "    # Print the symbol being downloaded\n",
    "    print('DOWNLOADING ' + symbol, sep=',', end=' ... ', flush=True)  \n",
    "\n",
    "    try:\n",
    "        # Download pricing data\n",
    "        stock = []\n",
    "        stock = yf.download(symbol, start=start, end=end, progress=False)\n",
    "\n",
    "        # Append individual prices\n",
    "        if len(stock) == 0:\n",
    "            None\n",
    "        else:\n",
    "            stock['Name'] = symbol\n",
    "            df = df.append(stock,sort=False)\n",
    "            df = df[['Close', 'Name']]\n",
    "            print('SUCCESS!')\n",
    "            \n",
    "    except Exception:\n",
    "        print('ERROR IN DOWNLOADING DATA')\n",
    "               \n",
    "    return df\n",
    "\n",
    "\n",
    "\n",
    "def day_change_transitions(df, num_days = 10):\n",
    "    \"\"\"Calculates a measure of change from good/middle/bad days sto good/middle/bad.\"\"\"\n",
    "    \n",
    "    # Controls\n",
    "    min_change = 0.001\n",
    "    \n",
    "    # How has the stock performed in the last X days?\n",
    "    df[str(num_days)+'D Change'] = df['Close'] - df.loc[:,'Close'].shift(num_days)\n",
    "    df[str(num_days)+'D Change Switch'] = np.where(df[str(num_days)+'D Change'] > 0, True, False)\n",
    "\n",
    "    # Is the change significant?\n",
    "    df['Change Percent Value'] = np.absolute(df[str(num_days)+'D Change'] / df['Close'])\n",
    "    df['Change Percent Value Switch'] = np.where(df['Change Percent Value'] > min_change, True, False)\n",
    "\n",
    "    # Combine everything\n",
    "    conditions = [\n",
    "        (df[str(num_days)+'D Change Switch'] == True) & (df['Change Percent Value Switch'] == True),\n",
    "        (df[str(num_days)+'D Change Switch'] == False) & (df['Change Percent Value Switch'] == True),\n",
    "        (df['Change Percent Value Switch'] == False)]\n",
    "    \n",
    "    # Assign categories\n",
    "    choices = [0, 1, 2]\n",
    "    df['Output'] = np.select(conditions, choices, default = 2)\n",
    "    \n",
    "    # Isolate transitions\n",
    "    transitions = list(df['Output'])[num_days:]\n",
    "\n",
    "    # Plot it because it pretty\n",
    "    #df[['Close', str(num_days)+'D Change']].plot()\n",
    "    #plt.show()\n",
    "    \n",
    "    return transitions\n",
    "\n",
    "\n",
    "\n",
    "def generate_transition_matrix(l):\n",
    "    \"\"\"Generates a transition matrix from a list of data\"\"\"\n",
    "    \n",
    "    # Identify all unique elements and create an empty transition matrix\n",
    "    elements = list(set(l))\n",
    "    elements_len = len(elements)\n",
    "    transition_matrix = [[0] * elements_len for x in range(elements_len)]\n",
    "\n",
    "    # Create a zipped pair of each state and its next, and then a transition matrix\n",
    "    for (i,j) in zip(l,l[1:]):\n",
    "        transition_matrix[i][j] += 1\n",
    "    for i in transition_matrix:\n",
    "        if sum(i) > 0:\n",
    "            i[:] = [x/sum(i) for x in i]\n",
    "    \n",
    "    \"\"\"\n",
    "    # Print transition matrix\n",
    "    for _ in transition_matrix:\n",
    "        print([np.around(x, 4) for x in _])\n",
    "    \"\"\"\n",
    "    return transition_matrix\n",
    "\n",
    "\n",
    "\n",
    "def generate_combine_transition_matrices(symbols, min_days = 1, max_days = 1):\n",
    "    \"\"\"Runs each part of the progrm for each symbol and combines the transition matrices\"\"\"\n",
    "    \n",
    "    list_tm = []\n",
    "    \n",
    "    # Generate transition matrix for each symbol\n",
    "    for i in symbols:\n",
    "        df = download_stock_data(i)\n",
    "        list_inner_tm = []\n",
    "        for j in list(range(min_days, max_days + 1)):\n",
    "            transitions = day_change_transitions(df, j)\n",
    "            transition_matrix = generate_transition_matrix(transitions)\n",
    "            list_inner_tm.append(transition_matrix)\n",
    "        list_tm.append(list_inner_tm)\n",
    "    \n",
    "    # Average transition matrix for each symbol, this still satisfies Kolmogorov axioms\n",
    "    avg_list, first, c = [], True, 0\n",
    "    for i in list_tm:\n",
    "        for j in i:\n",
    "            try:\n",
    "                if first == True:\n",
    "                    avg_list.append(np.array(j))\n",
    "                else:\n",
    "                    avg_list[c] = avg_list[c] + np.array(j)\n",
    "                    c = c + 1\n",
    "            except:\n",
    "                print('ERROR OCCURS AT ENTRY '+str(c))\n",
    "        first = False\n",
    "    for k in range(0, len(avg_list)):\n",
    "        avg_list[k] = avg_list[k] / len(symbols)\n",
    "\n",
    "    \n",
    "    \n",
    "    \"\"\"\n",
    "    # Pretty print\n",
    "    printable_tm = [list(x) for x in avg_tm]\n",
    "    print('\\nALL STOCKS TRANSITION MATRIX')\n",
    "    for _ in printable_tm:\n",
    "        print([np.around(x, 4) for x in _])\n",
    "    \"\"\"\n",
    "    return avg_list\n",
    "    \n",
    "\n",
    "\n",
    "def stationary_values(transition_matrix, mmult_number = 50):\n",
    "    \"\"\"From a transition matrix, generate stationary values\"\"\"\n",
    "        \n",
    "    # Create a 1st state array\n",
    "    state = np.array([[0.0] * len(transition_matrix)])\n",
    "    state[0][0] = 1.0\n",
    "    \n",
    "    # Create a state tracker\n",
    "    stateHist = state\n",
    "    dfStateHist = pd.DataFrame(state)\n",
    "    distr_hist = [[0,0]]\n",
    "    \n",
    "    # Calculate stationary values\n",
    "    for x in range(mmult_number):\n",
    "        state = np.dot(state,transition_matrix)\n",
    "        stateHist = np.append(stateHist,state,axis=0)\n",
    "        dfDistrHist = pd.DataFrame(stateHist)\n",
    "    svals = dfDistrHist[-1:].iloc[0]\n",
    "    \n",
    "    # Plot the descent to stationary\n",
    "    dfDistrHist.plot()\n",
    "    plt.show()\n",
    "        \n",
    "    return svals"
   ]
  },
  {
   "cell_type": "code",
   "execution_count": 68,
   "metadata": {},
   "outputs": [
    {
     "name": "stdout",
     "output_type": "stream",
     "text": [
      "DOWNLOADING AAPL ... SUCCESS!\n",
      "DOWNLOADING MSFT ... SUCCESS!\n"
     ]
    }
   ],
   "source": [
    "tms = generate_combine_transition_matrices(symbols, min_days = 1, max_days = 100)"
   ]
  },
  {
   "cell_type": "code",
   "execution_count": 70,
   "metadata": {},
   "outputs": [
    {
     "data": {
      "text/plain": [
       "[<matplotlib.lines.Line2D at 0x16da7b98790>]"
      ]
     },
     "execution_count": 70,
     "metadata": {},
     "output_type": "execute_result"
    },
    {
     "data": {
      "image/png": "[encoded data removed]",
      "text/plain": [
       "<Figure size 432x288 with 1 Axes>"
      ]
     },
     "metadata": {
      "needs_background": "light"
     },
     "output_type": "display_data"
    }
   ],
   "source": [
    "x = np.array([x[0][0] for x in tms])\n",
    "plt.plot(x)"
   ]
  },
  {
   "cell_type": "code",
   "execution_count": 5,
   "metadata": {},
   "outputs": [
    {
     "name": "stdout",
     "output_type": "stream",
     "text": [
      "DOWNLOADING AAPL ... SUCCESS!\n",
      "[0.985, 0.0131, 0.0019]\n",
      "[0.0419, 0.9513, 0.0067]\n",
      "[0.6667, 0.2222, 0.1111]\n",
      "DOWNLOADING MSFT ... SUCCESS!\n",
      "[0.9748, 0.0218, 0.0035]\n",
      "[0.0706, 0.9246, 0.0047]\n",
      "[0.7, 0.3, 0.0]\n",
      "DOWNLOADING GOOG ... SUCCESS!\n",
      "[0.9683, 0.0291, 0.0026]\n",
      "[0.0724, 0.918, 0.0096]\n",
      "[0.75, 0.25, 0.0]\n",
      "DOWNLOADING TSLA ... SUCCESS!\n",
      "[0.9628, 0.0372, 0.0]\n",
      "[0.0685, 0.9269, 0.0046]\n",
      "[0.5, 0.5, 0.0]\n",
      "DOWNLOADING V ... SUCCESS!\n",
      "[0.9759, 0.0214, 0.0027]\n",
      "[0.1031, 0.886, 0.011]\n",
      "[0.5833, 0.3333, 0.0833]\n",
      "\n",
      "ALL STOCKS TRANSITION MATRIX\n",
      "[0.9733, 0.0245, 0.0021]\n",
      "[0.0713, 0.9214, 0.0073]\n",
      "[0.64, 0.3211, 0.0389]\n"
     ]
    },
    {
     "data": {
      "image/png": "[encoded data removed]",
      "text/plain": [
       "<Figure size 432x288 with 1 Axes>"
      ]
     },
     "metadata": {
      "needs_background": "light"
     },
     "output_type": "display_data"
    },
    {
     "data": {
      "text/plain": [
       "0    0.749653\n",
       "1    0.246798\n",
       "2    0.003549\n",
       "Name: 50, dtype: float64"
      ]
     },
     "execution_count": 5,
     "metadata": {},
     "output_type": "execute_result"
    }
   ],
   "source": [
    "avg_tm = generate_combine_transition_matrices(symbols)\n",
    "stationary_values(avg_tm)"
   ]
  }
 ],
 "metadata": {
  "kernelspec": {
   "display_name": "Python 3",
   "language": "python",
   "name": "python3"
  },
  "language_info": {
   "codemirror_mode": {
    "name": "ipython",
    "version": 3
   },
   "file_extension": ".py",
   "mimetype": "text/x-python",
   "name": "python",
   "nbconvert_exporter": "python",
   "pygments_lexer": "ipython3",
   "version": "3.8.5"
  }
 },
 "nbformat": 4,
 "nbformat_minor": 4
}
